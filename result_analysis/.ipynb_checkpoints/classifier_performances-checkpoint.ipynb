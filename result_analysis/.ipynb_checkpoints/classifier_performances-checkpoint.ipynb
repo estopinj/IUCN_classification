{
 "cells": [
  {
   "cell_type": "code",
   "execution_count": 1,
   "id": "40eca158",
   "metadata": {},
   "outputs": [],
   "source": [
    "import numpy as np\n",
    "import pandas as pd\n",
    "import matplotlib.pyplot as plt\n",
    "import seaborn as sns\n",
    "from collections import defaultdict"
   ]
  },
  {
   "cell_type": "code",
   "execution_count": 2,
   "id": "588ce478",
   "metadata": {},
   "outputs": [],
   "source": [
    "D = {\n",
    "    \"B\":{\n",
    "        \"iucnn\":{\"p\":\"../logs/Selection_BROAD/broad_iucnn_geo/MlpIucnn894_9-9-9_2022-04-15 10:36:04.txt\"},\n",
    "        \"deep-SDM\":{\"p\":\"../logs/Selection_BROAD/broad_all_3var_activ/RF131_ntree10000_mtry100_2022-08-26 11:32:51.txt\"}\n",
    "    },\n",
    "    \"S\":{\n",
    "        \"iucnn\":{\"p\":\"../logs/Selection_DETAIL/detail_iucnn_geo-iucnn_hf/MlpIucnn802_18_18_18_2022-04-14 16:56:16.txt\"},\n",
    "        \"deep-SDM\":{\"p\":\"../logs/Selection_DETAIL/detail_all_3var_activ/RF800_ntree10000_mtry100_2023-07-13 11:53:03.txt\"}\n",
    "    },\n",
    "}"
   ]
  },
  {
   "cell_type": "code",
   "execution_count": 3,
   "id": "a12b339e",
   "metadata": {
    "scrolled": true
   },
   "outputs": [],
   "source": [
    "for lvl in [\"B\",\"S\"]:\n",
    "    for met in [\"iucnn\",\"deep-SDM\"]:\n",
    "        with open(D[lvl][met][\"p\"]) as f:\n",
    "            lines = [l.strip() for l in f.readlines()]\n",
    "            \n",
    "            i_micro = lines.index('test.micro')\n",
    "            D[lvl][met][\"micro\"] = lines[i_micro+1:i_micro+1+10]\n",
    "            i_macro = lines.index('test.macro')\n",
    "            D[lvl][met][\"macro\"] = lines[i_macro+1:i_macro+1+10]\n",
    "            \n",
    "            # Get rid of path\n",
    "            D[lvl][met].pop(\"p\")"
   ]
  },
  {
   "cell_type": "code",
   "execution_count": 4,
   "id": "dfa0693c",
   "metadata": {
    "scrolled": true
   },
   "outputs": [
    {
     "data": {
      "text/html": [
       "<div>\n",
       "<style scoped>\n",
       "    .dataframe tbody tr th:only-of-type {\n",
       "        vertical-align: middle;\n",
       "    }\n",
       "\n",
       "    .dataframe tbody tr th {\n",
       "        vertical-align: top;\n",
       "    }\n",
       "\n",
       "    .dataframe thead th {\n",
       "        text-align: right;\n",
       "    }\n",
       "</style>\n",
       "<table border=\"1\" class=\"dataframe\">\n",
       "  <thead>\n",
       "    <tr style=\"text-align: right;\">\n",
       "      <th></th>\n",
       "      <th>Avg.</th>\n",
       "      <th>Accuracy</th>\n",
       "      <th>level</th>\n",
       "      <th>Method</th>\n",
       "    </tr>\n",
       "  </thead>\n",
       "  <tbody>\n",
       "    <tr>\n",
       "      <th>0</th>\n",
       "      <td>macro</td>\n",
       "      <td>0.830233</td>\n",
       "      <td>Binary</td>\n",
       "      <td>IUCNN\\n (state of the art)</td>\n",
       "    </tr>\n",
       "    <tr>\n",
       "      <th>1</th>\n",
       "      <td>macro</td>\n",
       "      <td>0.819949</td>\n",
       "      <td>Binary</td>\n",
       "      <td>IUCNN\\n (state of the art)</td>\n",
       "    </tr>\n",
       "    <tr>\n",
       "      <th>2</th>\n",
       "      <td>macro</td>\n",
       "      <td>0.798887</td>\n",
       "      <td>Binary</td>\n",
       "      <td>IUCNN\\n (state of the art)</td>\n",
       "    </tr>\n",
       "    <tr>\n",
       "      <th>3</th>\n",
       "      <td>macro</td>\n",
       "      <td>0.878308</td>\n",
       "      <td>Binary</td>\n",
       "      <td>IUCNN\\n (state of the art)</td>\n",
       "    </tr>\n",
       "    <tr>\n",
       "      <th>4</th>\n",
       "      <td>macro</td>\n",
       "      <td>0.840256</td>\n",
       "      <td>Binary</td>\n",
       "      <td>IUCNN\\n (state of the art)</td>\n",
       "    </tr>\n",
       "    <tr>\n",
       "      <th>...</th>\n",
       "      <td>...</td>\n",
       "      <td>...</td>\n",
       "      <td>...</td>\n",
       "      <td>...</td>\n",
       "    </tr>\n",
       "    <tr>\n",
       "      <th>15</th>\n",
       "      <td>micro</td>\n",
       "      <td>0.685393</td>\n",
       "      <td>Status</td>\n",
       "      <td>deep-SDM\\n (ours)</td>\n",
       "    </tr>\n",
       "    <tr>\n",
       "      <th>16</th>\n",
       "      <td>micro</td>\n",
       "      <td>0.534091</td>\n",
       "      <td>Status</td>\n",
       "      <td>deep-SDM\\n (ours)</td>\n",
       "    </tr>\n",
       "    <tr>\n",
       "      <th>17</th>\n",
       "      <td>micro</td>\n",
       "      <td>0.625000</td>\n",
       "      <td>Status</td>\n",
       "      <td>deep-SDM\\n (ours)</td>\n",
       "    </tr>\n",
       "    <tr>\n",
       "      <th>18</th>\n",
       "      <td>micro</td>\n",
       "      <td>0.584270</td>\n",
       "      <td>Status</td>\n",
       "      <td>deep-SDM\\n (ours)</td>\n",
       "    </tr>\n",
       "    <tr>\n",
       "      <th>19</th>\n",
       "      <td>micro</td>\n",
       "      <td>0.582418</td>\n",
       "      <td>Status</td>\n",
       "      <td>deep-SDM\\n (ours)</td>\n",
       "    </tr>\n",
       "  </tbody>\n",
       "</table>\n",
       "<p>80 rows × 4 columns</p>\n",
       "</div>"
      ],
      "text/plain": [
       "     Avg.  Accuracy   level                      Method\n",
       "0   macro  0.830233  Binary  IUCNN\\n (state of the art)\n",
       "1   macro  0.819949  Binary  IUCNN\\n (state of the art)\n",
       "2   macro  0.798887  Binary  IUCNN\\n (state of the art)\n",
       "3   macro  0.878308  Binary  IUCNN\\n (state of the art)\n",
       "4   macro  0.840256  Binary  IUCNN\\n (state of the art)\n",
       "..    ...       ...     ...                         ...\n",
       "15  micro  0.685393  Status           deep-SDM\\n (ours)\n",
       "16  micro  0.534091  Status           deep-SDM\\n (ours)\n",
       "17  micro  0.625000  Status           deep-SDM\\n (ours)\n",
       "18  micro  0.584270  Status           deep-SDM\\n (ours)\n",
       "19  micro  0.582418  Status           deep-SDM\\n (ours)\n",
       "\n",
       "[80 rows x 4 columns]"
      ]
     },
     "execution_count": 4,
     "metadata": {},
     "output_type": "execute_result"
    }
   ],
   "source": [
    "L = []\n",
    "\n",
    "for lvl in [\"B\",\"S\"]:\n",
    "    for met in [\"iucnn\",\"deep-SDM\"]:\n",
    "        df = pd.DataFrame.from_records(D[lvl][met])\n",
    "        df = df.melt(value_name=\"Accuracy\", var_name=\"Avg.\")\n",
    "        df[\"level\"] = lvl\n",
    "        df[\"Method\"] = met\n",
    "        L.append(df)\n",
    "           \n",
    "df = pd.concat(L)\n",
    "df[\"Accuracy\"] = df[\"Accuracy\"].astype(float)\n",
    "df.replace(\"iucnn\", \"IUCNN\\n (state of the art)\", inplace=True)\n",
    "df.replace(\"deep-SDM\", \"deep-SDM\\n (ours)\", inplace=True)\n",
    "df.replace([\"B\", \"S\"], [\"Binary\", \"Status\"], inplace=True)\n",
    "df"
   ]
  },
  {
   "cell_type": "code",
   "execution_count": 8,
   "id": "b129223c",
   "metadata": {
    "scrolled": false
   },
   "outputs": [
    {
     "name": "stdout",
     "output_type": "stream",
     "text": [
      "/home/jestopin/PHD/cactus/figures/classif/accuracies_t_a_b_1_0\n"
     ]
    },
    {
     "data": {
      "image/png": "[encoded data removed]",
      "text/plain": [
       "<Figure size 600x600 with 4 Axes>"
      ]
     },
     "metadata": {},
     "output_type": "display_data"
    }
   ],
   "source": [
    "sns.set_theme(context=\"paper\", style=\"whitegrid\", font_scale=1.35)\n",
    "\n",
    "pal = \"tab10\" # \"tab10\" # \"colorblind\" \"deep\"\n",
    "\n",
    "facet = sns.catplot(data=df,\n",
    "            x=\"Method\", y=\"Accuracy\", hue=\"Method\",\n",
    "            row=\"level\", col=\"Avg.\",\n",
    "            kind=\"box\",\n",
    "            height=3,\n",
    "            row_order = [\"Binary\", \"Status\"],\n",
    "            col_order = [\"micro\", \"macro\"],\n",
    "            dodge=False,\n",
    "#             sharey=False,\n",
    "#             sharex=False,\n",
    "            palette=pal\n",
    "           )\n",
    "\n",
    "# facet.axes[0,0].set_ylim([0.3,0.7])\n",
    "# facet.axes[0,1].set_ylim([0.3,0.7])\n",
    "# facet.axes[1,0].set_ylim([0.65,0.9])\n",
    "# facet.axes[1,1].set_ylim([0.65,0.9])\n",
    "\n",
    "# facet.axes[1,1].clear()\n",
    "# facet.axes[1,1].set_axis_off()\n",
    "\n",
    "facet.set_axis_labels(x_var=\"\")\n",
    "facet.set_titles(\"{row_name} \"+\"$({col_name}$\"+\"-\"+\"$average)$\")\n",
    "\n",
    "\n",
    "name = f\"out/accuracies_\"+'_'.join(pal)\n",
    "print(name)\n",
    "# plt.savefig(name+\".png\", bbox_inches=\"tight\")\n",
    "# plt.savefig(name+\".pdf\", bbox_inches=\"tight\")\n",
    "\n",
    "plt.show()\n",
    "plt.close()"
   ]
  },
  {
   "cell_type": "markdown",
   "id": "4ba0fd00",
   "metadata": {},
   "source": [
    "- Average perfs"
   ]
  },
  {
   "cell_type": "code",
   "execution_count": 10,
   "id": "d249532a",
   "metadata": {},
   "outputs": [],
   "source": [
    "D = {\n",
    "    \"B\":{\n",
    "        \"iucnn\":{\"p\":\"../logs/Selection_BROAD/broad_iucnn_geo/MlpIucnn894_9-9-9_2022-04-15 10:36:04.txt\"},\n",
    "        \"deep-SDM\":{\"p\":\"../logs/Selection_BROAD/broad_all_3var_activ/RF131_ntree10000_mtry100_2022-08-26 11:32:51.txt\"}\n",
    "    },\n",
    "    \"S\":{\n",
    "        \"iucnn\":{\"p\":\"../logs/Selection_DETAIL/detail_iucnn_geo-iucnn_hf/MlpIucnn802_18_18_18_2022-04-14 16:56:16.txt\"},\n",
    "        \"deep-SDM\":{\"p\":\"../logs/Selection_DETAIL/detail_all_3var_activ/RF800_ntree10000_mtry100_2023-07-13 11:53:03.txt\"}\n",
    "    },\n",
    "}"
   ]
  },
  {
   "cell_type": "code",
   "execution_count": 11,
   "id": "66217402",
   "metadata": {},
   "outputs": [
    {
     "data": {
      "text/plain": [
       "{'B': {'iucnn': {'micro': '0.807670241743276', 'macro': '0.806833472896916'},\n",
       "  'deep-SDM': {'micro': '0.780025732694272', 'macro': '0.776650630713964'}},\n",
       " 'S': {'iucnn': {'micro': '0.596080897183544', 'macro': '0.410040086395206'},\n",
       "  'deep-SDM': {'micro': '0.608394975810706', 'macro': '0.425090092352568'}}}"
      ]
     },
     "execution_count": 11,
     "metadata": {},
     "output_type": "execute_result"
    }
   ],
   "source": [
    "for lvl in [\"B\",\"S\"]:\n",
    "    for met in [\"iucnn\",\"deep-SDM\"]:\n",
    "        with open(D[lvl][met][\"p\"]) as f:\n",
    "            lines = [l.strip() for l in f.readlines()]\n",
    "            \n",
    "            i_micro = lines.index('avg.test.micro')\n",
    "            D[lvl][met][\"micro\"] = lines[i_micro+1]\n",
    "            i_macro = lines.index('avg.test.macro')\n",
    "            D[lvl][met][\"macro\"] = lines[i_macro+1]\n",
    "            \n",
    "            # Get rid of path\n",
    "            D[lvl][met].pop(\"p\")\n",
    "            \n",
    "D            "
   ]
  },
  {
   "cell_type": "code",
   "execution_count": null,
   "id": "e32d4a12",
   "metadata": {},
   "outputs": [],
   "source": []
  }
 ],
 "metadata": {
  "kernelspec": {
   "display_name": "Python 3 (ipykernel)",
   "language": "python",
   "name": "python3"
  },
  "language_info": {
   "codemirror_mode": {
    "name": "ipython",
    "version": 3
   },
   "file_extension": ".py",
   "mimetype": "text/x-python",
   "name": "python",
   "nbconvert_exporter": "python",
   "pygments_lexer": "ipython3",
   "version": "3.10.8"
  }
 },
 "nbformat": 4,
 "nbformat_minor": 5
}
